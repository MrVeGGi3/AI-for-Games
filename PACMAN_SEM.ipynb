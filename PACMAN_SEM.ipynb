{
  "nbformat": 4,
  "nbformat_minor": 0,
  "metadata": {
    "colab": {
      "provenance": [],
      "gpuType": "T4",
      "include_colab_link": true
    },
    "kernelspec": {
      "name": "python3",
      "display_name": "Python 3"
    },
    "language_info": {
      "name": "python"
    },
    "accelerator": "GPU"
  },
  "cells": [
    {
      "cell_type": "markdown",
      "metadata": {
        "id": "view-in-github",
        "colab_type": "text"
      },
      "source": [
        "<a href=\"https://colab.research.google.com/github/MrVeGGi3/AI-for-Games/blob/main/PACMAN_SEM.ipynb\" target=\"_parent\"><img src=\"https://colab.research.google.com/assets/colab-badge.svg\" alt=\"Open In Colab\"/></a>"
      ]
    },
    {
      "cell_type": "code",
      "source": [
        "!pip install durable-rules\n",
        "!pip install networkx"
      ],
      "metadata": {
        "colab": {
          "base_uri": "https://localhost:8080/"
        },
        "id": "xce5ebjSq6up",
        "outputId": "adb2c9ad-14ca-4112-c971-4fd7a2084808"
      },
      "execution_count": 2,
      "outputs": [
        {
          "output_type": "stream",
          "name": "stdout",
          "text": [
            "Collecting durable-rules\n",
            "  Downloading durable_rules-2.0.28.tar.gz (57 kB)\n",
            "\u001b[?25l     \u001b[90m━━━━━━━━━━━━━━━━━━━━━━━━━━━━━━━━━━━━━━━━\u001b[0m \u001b[32m0.0/57.6 kB\u001b[0m \u001b[31m?\u001b[0m eta \u001b[36m-:--:--\u001b[0m\r\u001b[2K     \u001b[90m━━━━━━━━━━━━━━━━━━━━━━━━━━━━━━━━━━━━━━━━\u001b[0m \u001b[32m57.6/57.6 kB\u001b[0m \u001b[31m2.4 MB/s\u001b[0m eta \u001b[36m0:00:00\u001b[0m\n",
            "\u001b[?25h  Preparing metadata (setup.py) ... \u001b[?25l\u001b[?25hdone\n",
            "Building wheels for collected packages: durable-rules\n",
            "  Building wheel for durable-rules (setup.py) ... \u001b[?25l\u001b[?25hdone\n",
            "  Created wheel for durable-rules: filename=durable_rules-2.0.28-cp310-cp310-linux_x86_64.whl size=199325 sha256=be29517767562253e91dc8e9561f09b0b61368f0c3f6eb7050fb8cbae66a9bfb\n",
            "  Stored in directory: /root/.cache/pip/wheels/f6/b4/6c/ee50ba2f212686ca9c6fdae66f5030f2f37cc9178a38503f69\n",
            "Successfully built durable-rules\n",
            "Installing collected packages: durable-rules\n",
            "Successfully installed durable-rules-2.0.28\n",
            "Requirement already satisfied: networkx in /usr/local/lib/python3.10/dist-packages (3.3)\n"
          ]
        }
      ]
    },
    {
      "cell_type": "markdown",
      "source": [
        "## Pac-Man\n",
        "\n",
        "Comportamento geral dos fantasminhas:\n",
        "\n",
        "Chase : Quando o Pac-Man está próximo e não está no modo de poder, os fantasminhas devem persegui-lo.\n",
        "\n",
        "Flee : Quando o Pac-Man consome uma pílula de poder, os fantasminhas devem fugir.\n",
        "\n",
        "Return to Base : Quando um fantasminha é comido, ele deve retornar à base.\n",
        "\n",
        "eat_pac_man: Quando um fantasminha come o pac-man\n",
        "\n",
        "observe: Quando o fantasminha observa o pac-man"
      ],
      "metadata": {
        "id": "ffywYeD3mrse"
      }
    },
    {
      "cell_type": "markdown",
      "source": [
        "### Regras\n"
      ],
      "metadata": {
        "id": "9O6LvC8MiD0I"
      }
    },
    {
      "cell_type": "code",
      "source": [
        "from durable.lang import *\n",
        "\n",
        "with ruleset('ghosts'):\n",
        "    # Regras para perseguir o Pac-Man\n",
        "    @when_all((m.distance_to_pacman < 10) & (m.distance_to_pacman > 0) & (m.pacman_has_power == False) & (m.subject != 'Inky'))\n",
        "    def chase(c):\n",
        "      try:\n",
        "        c.assert_fact({'subject': c.m.subject, 'action': 'move_towards', 'target': 'Pacman'})\n",
        "        print(c.m)\n",
        "        print(f'{c.m.subject} perseguindo o Pac-Man!')\n",
        "      except Exception as e:\n",
        "        print(f\"ruleset: {e} duplicate\")\n",
        "    @when_all((m.subject == 'Inky') & (m.pac_man_fruits_collected > 50))\n",
        "    def chase(c):\n",
        "      try:\n",
        "        c.assert_fact({'subject': c.m.subject, 'action': 'move_towards', 'target': 'Pacman'})\n",
        "        print(c.m)\n",
        "        print(f'{c.m.subject} perseguindo o Pac-Man!')\n",
        "      except Exception as e:\n",
        "        print(f\"ruleset: {e} duplicate\")\n",
        "\n",
        "    # Regra para fugir do Pac-Man\n",
        "    @when_all( (m.distance_to_pacman < 10) & (m.distance_to_pacman > 0) & (m.pacman_has_power == True))\n",
        "    def flee(c):\n",
        "      try:\n",
        "        c.assert_fact({'subject': c.m.subject, 'action': 'move_away', 'target': 'Pacman'})\n",
        "        print(c.m)\n",
        "        print(f'{c.m.subject} fugindo do Pac-Man!!')\n",
        "      except Exception as e:\n",
        "        print(f\"ruleset: {e} duplicate\")\n",
        "\n",
        "    # Regra para ficar com medo do Pac-Man\n",
        "    @when_all(( m.pacman_has_power == True) & (m.distance_to_pacman > 0))\n",
        "    def tremble(c):\n",
        "      try:\n",
        "        c.assert_fact({'subject': c.m.subject, 'action': 'move_away', 'target': 'Pacman'})\n",
        "        print(c.m)\n",
        "        print(f'{c.m.subject} Tremendo!')\n",
        "      except Exception as e:\n",
        "        print(f\"ruleset: {e} duplicate\")\n",
        "\n",
        "    # Regra para retornar à base após ser comido\n",
        "    @when_all((m.distance_to_pacman <= 0.01) & (m.distance_to_pacman >= -0.01) & (m.pacman_has_power == True))\n",
        "    def return_to_base(c):\n",
        "      try:\n",
        "        c.assert_fact({'subject': c.m.subject, 'action': 'return_to', 'target': 'Base'})\n",
        "        print(c.m)\n",
        "        print(f'{c.m.subject} retornando a base!')\n",
        "      except Exception as e:\n",
        "        print(f\"ruleset: {e} duplicate\")\n",
        "\n",
        "    #regra para comer o pac_man\n",
        "    @when_all(m.distance_to_pacman <= 0)\n",
        "    def eat_pac_man(c):\n",
        "      try:\n",
        "        print(f\"ruleset: {e} duplicate\")\n",
        "        c.assert_fact({'subject': c.m.subject, 'action': 'return_to', 'target': 'Base'})\n",
        "        print(c.m)\n",
        "        print(f'{c.m.subject} comendo o pac-man!')\n",
        "      except Exception as e:\n",
        "        print(f\"ruleset: {e} duplicate\")\n",
        "\n",
        "    # Regra para fantasma observar o pac-man (o que acontece sempre!)\n",
        "    @when_all(+m.subject)\n",
        "    def observe(c):\n",
        "        print(f'{c.m.subject} observando o pac-man.')\n"
      ],
      "metadata": {
        "id": "0Lfdbmz6fgvM"
      },
      "execution_count": 17,
      "outputs": []
    },
    {
      "cell_type": "code",
      "source": [],
      "metadata": {
        "id": "i5ge8JRkciLd"
      },
      "execution_count": null,
      "outputs": []
    },
    {
      "cell_type": "markdown",
      "source": [
        "##Inferência\n"
      ],
      "metadata": {
        "id": "Q-JvrHGoqRxL"
      }
    },
    {
      "cell_type": "code",
      "source": [
        "post('ghosts', {'subject': 'Blinky', 'distance_to_pacman': 5, 'pacman_has_power': False})"
      ],
      "metadata": {
        "id": "YEXf1EVfHMMN",
        "colab": {
          "base_uri": "https://localhost:8080/"
        },
        "outputId": "9bcf8e92-612a-4d3c-c5f7-25f6740a7422"
      },
      "execution_count": 4,
      "outputs": [
        {
          "output_type": "stream",
          "name": "stdout",
          "text": [
            "{'subject': 'Blinky', 'distance_to_pacman': 5, 'pacman_has_power': False}\n",
            "Blinky perseguindo o Pac-Man!\n",
            "Blinky observando o pac-man.\n"
          ]
        },
        {
          "output_type": "execute_result",
          "data": {
            "text/plain": [
              "{'sid': '0', 'id': 'sid-0', '$s': 1}"
            ]
          },
          "metadata": {},
          "execution_count": 4
        }
      ]
    },
    {
      "cell_type": "markdown",
      "source": [
        "##Exercícios\n",
        "\n",
        "a) Implemente as seguintes inferências\n",
        "\n",
        "1.   Inky distante do pac-man em 20 unidades e pac-man com poder\n",
        "2.   Blinky distante do pac-man em 3 unidades e pac-man com poder\n",
        "\n",
        "\n",
        "3.   Pinky distante do pac-man em 10 unidades e pac-man coletou 60 frutas\n",
        "4.   Inky distante do pac-man em 10 unidades e pac-man coletou 60 frutas\n",
        "\n",
        "\n",
        "\n",
        "\n",
        "\n",
        "\n",
        "\n"
      ],
      "metadata": {
        "id": "gzKQ2HgeHR9b"
      }
    },
    {
      "cell_type": "code",
      "source": [
        "post('ghosts', {'subject': 'Inky', 'distance_to_pacman': 20, 'pacman_has_power' : True})\n",
        "post('ghosts', {'subject' : 'Blinky', 'distance_to_pacman' : 20, 'pacman_has_power' : True})\n",
        "post('ghosts', {'subject' : 'Pinky', 'distance_to_pacman' : 10, 'pacman_fruits_collected': 60})\n",
        "post('ghosts', {'subject' : 'Inky', 'distance_to_pacman' : 10, 'pacman_fruits_collected' : 60})"
      ],
      "metadata": {
        "colab": {
          "base_uri": "https://localhost:8080/"
        },
        "id": "Nn913BEBQbLq",
        "outputId": "9cc38d38-ce24-4241-9bf7-d9cb9f73ae0e"
      },
      "execution_count": 5,
      "outputs": [
        {
          "output_type": "stream",
          "name": "stdout",
          "text": [
            "{'subject': 'Inky', 'distance_to_pacman': 20, 'pacman_has_power': True}\n",
            "Inky Tremendo!\n",
            "Inky observando o pac-man.\n",
            "{'subject': 'Blinky', 'distance_to_pacman': 20, 'pacman_has_power': True}\n",
            "Blinky Tremendo!\n",
            "Blinky observando o pac-man.\n",
            "Pinky observando o pac-man.\n",
            "Inky observando o pac-man.\n"
          ]
        },
        {
          "output_type": "execute_result",
          "data": {
            "text/plain": [
              "{'sid': '0', 'id': 'sid-0', '$s': 1}"
            ]
          },
          "metadata": {},
          "execution_count": 5
        }
      ]
    },
    {
      "cell_type": "markdown",
      "source": [
        "b) Execute as inferência a seguir e explique os resultados\n",
        "\n"
      ],
      "metadata": {
        "id": "LmhqogOFHZkc"
      }
    },
    {
      "cell_type": "code",
      "source": [
        "post('ghosts', {'subject': 'Clyde', 'distance_to_pacman': 0 , 'pacman_has_power': True})"
      ],
      "metadata": {
        "id": "5JhW4BdZKUDc",
        "colab": {
          "base_uri": "https://localhost:8080/"
        },
        "outputId": "a6466046-a77b-48d5-ff46-dbe2d7044f04"
      },
      "execution_count": 6,
      "outputs": [
        {
          "output_type": "stream",
          "name": "stdout",
          "text": [
            "{'subject': 'Clyde', 'distance_to_pacman': 0, 'pacman_has_power': True}\n",
            "Clyde retornando a base!\n",
            "Clyde observando o pac-man.\n"
          ]
        },
        {
          "output_type": "execute_result",
          "data": {
            "text/plain": [
              "{'sid': '0', 'id': 'sid-0', '$s': 1}"
            ]
          },
          "metadata": {},
          "execution_count": 6
        }
      ]
    },
    {
      "cell_type": "markdown",
      "source": [
        "**Resposta:** Clyde entrou em colisão com o PacMan quando este capturou a bolinha. Logo, ele retorna a base, e volta de novo á observar o pac-man, esperando por uma distância minima para agir.\n"
      ],
      "metadata": {
        "id": "UL0nWoTiSMsd"
      }
    },
    {
      "cell_type": "code",
      "source": [
        "post('ghosts', {'subject': 'Clyde', 'eaten': True})"
      ],
      "metadata": {
        "id": "c3eKOm66KeKU",
        "colab": {
          "base_uri": "https://localhost:8080/"
        },
        "outputId": "1ae212c7-c270-473b-80ba-09619bb41ada"
      },
      "execution_count": 7,
      "outputs": [
        {
          "output_type": "stream",
          "name": "stdout",
          "text": [
            "Clyde observando o pac-man.\n"
          ]
        },
        {
          "output_type": "execute_result",
          "data": {
            "text/plain": [
              "{'sid': '0', 'id': 'sid-0', '$s': 1}"
            ]
          },
          "metadata": {},
          "execution_count": 7
        }
      ]
    },
    {
      "cell_type": "markdown",
      "source": [
        "\n",
        "\n",
        "```\n",
        "# Isto está formatado como código\n",
        "```\n",
        "**Resposta:** Como não existe a declaração de 'eaten' no @when_all, o programa retorna o método \"observe\"."
      ],
      "metadata": {
        "id": "f5LdCUlrKpTN"
      }
    },
    {
      "cell_type": "code",
      "source": [
        "post('ghosts', {'subject': 'Clyde', 'distance_to_pacman': 0})"
      ],
      "metadata": {
        "id": "tmLNm7GNKyS9",
        "colab": {
          "base_uri": "https://localhost:8080/"
        },
        "outputId": "0ed8c2f0-7c6a-49f1-a7f1-7f73e5a6bf17"
      },
      "execution_count": 8,
      "outputs": [
        {
          "output_type": "stream",
          "name": "stdout",
          "text": [
            "ruleset: local variable 'e' referenced before assignment duplicate\n"
          ]
        },
        {
          "output_type": "execute_result",
          "data": {
            "text/plain": [
              "{'sid': '0', 'id': 'sid-0', '$s': 1}"
            ]
          },
          "metadata": {},
          "execution_count": 8
        }
      ]
    },
    {
      "cell_type": "markdown",
      "source": [
        "**Resposta:** O programa identifica que o Fantasma já foi chamado anteriormente, e portanto, é uma duplicata."
      ],
      "metadata": {
        "id": "CNUoSWjIKzTM"
      }
    },
    {
      "cell_type": "markdown",
      "source": [
        "c) Elabore 3 inferências para demonstrar o comportamento dos fantasminhas em condições próximas dos limites para atacar o pac-man e outras 3 nos limites para retornar à base"
      ],
      "metadata": {
        "id": "SQ5Cvyb5K3bN"
      }
    },
    {
      "cell_type": "code",
      "source": [
        "post('ghosts', {'subject' : 'Clyde', 'distance_to_pacman': 0.5,})"
      ],
      "metadata": {
        "colab": {
          "base_uri": "https://localhost:8080/"
        },
        "id": "yUcQIHLgYaQs",
        "outputId": "81bee82f-65e6-4d40-8fd0-33b194b73b95"
      },
      "execution_count": 9,
      "outputs": [
        {
          "output_type": "stream",
          "name": "stdout",
          "text": [
            "Clyde observando o pac-man.\n"
          ]
        },
        {
          "output_type": "execute_result",
          "data": {
            "text/plain": [
              "{'sid': '0', 'id': 'sid-0', '$s': 1}"
            ]
          },
          "metadata": {},
          "execution_count": 9
        }
      ]
    },
    {
      "cell_type": "code",
      "source": [
        "post('ghosts',{'subject' : 'Inky', 'distance_to_pacman' : 10.001})"
      ],
      "metadata": {
        "colab": {
          "base_uri": "https://localhost:8080/"
        },
        "id": "g4TmIczQZkJ7",
        "outputId": "5b7ffc6c-dda5-46b1-e9ce-d0519eed76d1"
      },
      "execution_count": 10,
      "outputs": [
        {
          "output_type": "stream",
          "name": "stdout",
          "text": [
            "Inky observando o pac-man.\n"
          ]
        },
        {
          "output_type": "execute_result",
          "data": {
            "text/plain": [
              "{'sid': '0', 'id': 'sid-0', '$s': 1}"
            ]
          },
          "metadata": {},
          "execution_count": 10
        }
      ]
    },
    {
      "cell_type": "code",
      "source": [
        "post('ghosts', {'subject' : 'Clyde', 'distance_to_pacman': 0.0001})"
      ],
      "metadata": {
        "colab": {
          "base_uri": "https://localhost:8080/"
        },
        "id": "rm__NX73aJZk",
        "outputId": "917e2a68-e80c-4650-b8e4-c402f5f8ce44"
      },
      "execution_count": 11,
      "outputs": [
        {
          "output_type": "stream",
          "name": "stdout",
          "text": [
            "Clyde observando o pac-man.\n"
          ]
        },
        {
          "output_type": "execute_result",
          "data": {
            "text/plain": [
              "{'sid': '0', 'id': 'sid-0', '$s': 1}"
            ]
          },
          "metadata": {},
          "execution_count": 11
        }
      ]
    },
    {
      "cell_type": "code",
      "source": [
        "post('ghosts', {'subject' : 'Inky', 'distance_to_pacman': 0.0000000001, 'pacman_has_power' : True})"
      ],
      "metadata": {
        "colab": {
          "base_uri": "https://localhost:8080/",
          "height": 287
        },
        "id": "UghDx0H-afga",
        "outputId": "c599dc75-065d-4cc6-c918-4d797e1b921f"
      },
      "execution_count": 13,
      "outputs": [
        {
          "output_type": "error",
          "ename": "error",
          "evalue": "Could not assert event, error code: 204",
          "traceback": [
            "\u001b[0;31m---------------------------------------------------------------------------\u001b[0m",
            "\u001b[0;31merror\u001b[0m                                     Traceback (most recent call last)",
            "\u001b[0;32m<ipython-input-13-86d628901877>\u001b[0m in \u001b[0;36m<cell line: 1>\u001b[0;34m()\u001b[0m\n\u001b[0;32m----> 1\u001b[0;31m \u001b[0mpost\u001b[0m\u001b[0;34m(\u001b[0m\u001b[0;34m'ghosts'\u001b[0m\u001b[0;34m,\u001b[0m \u001b[0;34m{\u001b[0m\u001b[0;34m'subject'\u001b[0m \u001b[0;34m:\u001b[0m  \u001b[0;34m'Inky'\u001b[0m\u001b[0;34m,\u001b[0m \u001b[0;34m'distance_to_pacman'\u001b[0m\u001b[0;34m:\u001b[0m \u001b[0;36m0.0000000001\u001b[0m\u001b[0;34m,\u001b[0m \u001b[0;34m'pacman_has_power'\u001b[0m \u001b[0;34m:\u001b[0m \u001b[0;32mTrue\u001b[0m\u001b[0;34m}\u001b[0m\u001b[0;34m)\u001b[0m\u001b[0;34m\u001b[0m\u001b[0;34m\u001b[0m\u001b[0m\n\u001b[0m",
            "\u001b[0;32m/usr/local/lib/python3.10/dist-packages/durable/lang.py\u001b[0m in \u001b[0;36mpost\u001b[0;34m(ruleset_name, message, complete)\u001b[0m\n\u001b[1;32m    668\u001b[0m \u001b[0;34m\u001b[0m\u001b[0m\n\u001b[1;32m    669\u001b[0m \u001b[0;32mdef\u001b[0m \u001b[0mpost\u001b[0m\u001b[0;34m(\u001b[0m\u001b[0mruleset_name\u001b[0m\u001b[0;34m,\u001b[0m \u001b[0mmessage\u001b[0m\u001b[0;34m,\u001b[0m \u001b[0mcomplete\u001b[0m \u001b[0;34m=\u001b[0m \u001b[0;32mNone\u001b[0m\u001b[0;34m)\u001b[0m\u001b[0;34m:\u001b[0m\u001b[0;34m\u001b[0m\u001b[0;34m\u001b[0m\u001b[0m\n\u001b[0;32m--> 670\u001b[0;31m     \u001b[0;32mreturn\u001b[0m \u001b[0mget_host\u001b[0m\u001b[0;34m(\u001b[0m\u001b[0;34m)\u001b[0m\u001b[0;34m.\u001b[0m\u001b[0mpost\u001b[0m\u001b[0;34m(\u001b[0m\u001b[0mruleset_name\u001b[0m\u001b[0;34m,\u001b[0m \u001b[0mmessage\u001b[0m\u001b[0;34m,\u001b[0m \u001b[0mcomplete\u001b[0m\u001b[0;34m)\u001b[0m\u001b[0;34m\u001b[0m\u001b[0;34m\u001b[0m\u001b[0m\n\u001b[0m\u001b[1;32m    671\u001b[0m \u001b[0;34m\u001b[0m\u001b[0m\n\u001b[1;32m    672\u001b[0m \u001b[0;32mdef\u001b[0m \u001b[0mpost_batch\u001b[0m\u001b[0;34m(\u001b[0m\u001b[0mruleset_name\u001b[0m\u001b[0;34m,\u001b[0m \u001b[0mmessages\u001b[0m\u001b[0;34m,\u001b[0m \u001b[0mcomplete\u001b[0m \u001b[0;34m=\u001b[0m \u001b[0;32mNone\u001b[0m\u001b[0;34m)\u001b[0m\u001b[0;34m:\u001b[0m\u001b[0;34m\u001b[0m\u001b[0;34m\u001b[0m\u001b[0m\n",
            "\u001b[0;32m/usr/local/lib/python3.10/dist-packages/durable/engine.py\u001b[0m in \u001b[0;36mpost\u001b[0;34m(self, ruleset_name, message, complete)\u001b[0m\n\u001b[1;32m    804\u001b[0m \u001b[0;34m\u001b[0m\u001b[0m\n\u001b[1;32m    805\u001b[0m         \u001b[0mrules\u001b[0m \u001b[0;34m=\u001b[0m \u001b[0mself\u001b[0m\u001b[0;34m.\u001b[0m\u001b[0mget_ruleset\u001b[0m\u001b[0;34m(\u001b[0m\u001b[0mruleset_name\u001b[0m\u001b[0;34m)\u001b[0m\u001b[0;34m\u001b[0m\u001b[0;34m\u001b[0m\u001b[0m\n\u001b[0;32m--> 806\u001b[0;31m         \u001b[0;32mreturn\u001b[0m \u001b[0mself\u001b[0m\u001b[0;34m.\u001b[0m\u001b[0m_handle_function\u001b[0m\u001b[0;34m(\u001b[0m\u001b[0mrules\u001b[0m\u001b[0;34m,\u001b[0m \u001b[0mrules\u001b[0m\u001b[0;34m.\u001b[0m\u001b[0massert_event\u001b[0m\u001b[0;34m,\u001b[0m \u001b[0mmessage\u001b[0m\u001b[0;34m,\u001b[0m \u001b[0mcomplete\u001b[0m\u001b[0;34m)\u001b[0m\u001b[0;34m\u001b[0m\u001b[0;34m\u001b[0m\u001b[0m\n\u001b[0m\u001b[1;32m    807\u001b[0m \u001b[0;34m\u001b[0m\u001b[0m\n\u001b[1;32m    808\u001b[0m     \u001b[0;32mdef\u001b[0m \u001b[0mpost_batch\u001b[0m\u001b[0;34m(\u001b[0m\u001b[0mself\u001b[0m\u001b[0;34m,\u001b[0m \u001b[0mruleset_name\u001b[0m\u001b[0;34m,\u001b[0m \u001b[0mmessages\u001b[0m\u001b[0;34m,\u001b[0m \u001b[0mcomplete\u001b[0m \u001b[0;34m=\u001b[0m \u001b[0;32mNone\u001b[0m\u001b[0;34m)\u001b[0m\u001b[0;34m:\u001b[0m\u001b[0;34m\u001b[0m\u001b[0;34m\u001b[0m\u001b[0m\n",
            "\u001b[0;32m/usr/local/lib/python3.10/dist-packages/durable/engine.py\u001b[0m in \u001b[0;36m_handle_function\u001b[0;34m(self, rules, func, args, complete)\u001b[0m\n\u001b[1;32m    788\u001b[0m \u001b[0;34m\u001b[0m\u001b[0m\n\u001b[1;32m    789\u001b[0m         \u001b[0;32mif\u001b[0m \u001b[0;32mnot\u001b[0m \u001b[0mcomplete\u001b[0m\u001b[0;34m:\u001b[0m\u001b[0;34m\u001b[0m\u001b[0;34m\u001b[0m\u001b[0m\n\u001b[0;32m--> 790\u001b[0;31m             \u001b[0mrules\u001b[0m\u001b[0;34m.\u001b[0m\u001b[0mdo_actions\u001b[0m\u001b[0;34m(\u001b[0m\u001b[0mfunc\u001b[0m\u001b[0;34m(\u001b[0m\u001b[0margs\u001b[0m\u001b[0;34m)\u001b[0m\u001b[0;34m,\u001b[0m \u001b[0mcallback\u001b[0m\u001b[0;34m)\u001b[0m\u001b[0;34m\u001b[0m\u001b[0;34m\u001b[0m\u001b[0m\n\u001b[0m\u001b[1;32m    791\u001b[0m             \u001b[0;32mif\u001b[0m \u001b[0merror\u001b[0m\u001b[0;34m[\u001b[0m\u001b[0;36m0\u001b[0m\u001b[0;34m]\u001b[0m\u001b[0;34m:\u001b[0m\u001b[0;34m\u001b[0m\u001b[0;34m\u001b[0m\u001b[0m\n\u001b[1;32m    792\u001b[0m                 \u001b[0;32mraise\u001b[0m \u001b[0merror\u001b[0m\u001b[0;34m[\u001b[0m\u001b[0;36m0\u001b[0m\u001b[0;34m]\u001b[0m\u001b[0;34m\u001b[0m\u001b[0;34m\u001b[0m\u001b[0m\n",
            "\u001b[0;32m/usr/local/lib/python3.10/dist-packages/durable/engine.py\u001b[0m in \u001b[0;36massert_event\u001b[0;34m(self, message)\u001b[0m\n\u001b[1;32m    335\u001b[0m \u001b[0;34m\u001b[0m\u001b[0m\n\u001b[1;32m    336\u001b[0m     \u001b[0;32mdef\u001b[0m \u001b[0massert_event\u001b[0m\u001b[0;34m(\u001b[0m\u001b[0mself\u001b[0m\u001b[0;34m,\u001b[0m \u001b[0mmessage\u001b[0m\u001b[0;34m)\u001b[0m\u001b[0;34m:\u001b[0m\u001b[0;34m\u001b[0m\u001b[0;34m\u001b[0m\u001b[0m\n\u001b[0;32m--> 337\u001b[0;31m         \u001b[0;32mreturn\u001b[0m \u001b[0mself\u001b[0m\u001b[0;34m.\u001b[0m\u001b[0m_handle_result\u001b[0m\u001b[0;34m(\u001b[0m\u001b[0mdurable_rules_engine\u001b[0m\u001b[0;34m.\u001b[0m\u001b[0massert_event\u001b[0m\u001b[0;34m(\u001b[0m\u001b[0mself\u001b[0m\u001b[0;34m.\u001b[0m\u001b[0m_handle\u001b[0m\u001b[0;34m,\u001b[0m \u001b[0mjson\u001b[0m\u001b[0;34m.\u001b[0m\u001b[0mdumps\u001b[0m\u001b[0;34m(\u001b[0m\u001b[0mmessage\u001b[0m\u001b[0;34m,\u001b[0m \u001b[0mensure_ascii\u001b[0m\u001b[0;34m=\u001b[0m\u001b[0;32mFalse\u001b[0m\u001b[0;34m)\u001b[0m\u001b[0;34m)\u001b[0m\u001b[0;34m,\u001b[0m \u001b[0mmessage\u001b[0m\u001b[0;34m)\u001b[0m\u001b[0;34m\u001b[0m\u001b[0;34m\u001b[0m\u001b[0m\n\u001b[0m\u001b[1;32m    338\u001b[0m \u001b[0;34m\u001b[0m\u001b[0m\n\u001b[1;32m    339\u001b[0m     \u001b[0;32mdef\u001b[0m \u001b[0massert_events\u001b[0m\u001b[0;34m(\u001b[0m\u001b[0mself\u001b[0m\u001b[0;34m,\u001b[0m \u001b[0mmessages\u001b[0m\u001b[0;34m)\u001b[0m\u001b[0;34m:\u001b[0m\u001b[0;34m\u001b[0m\u001b[0;34m\u001b[0m\u001b[0m\n",
            "\u001b[0;31merror\u001b[0m: Could not assert event, error code: 204"
          ]
        }
      ]
    },
    {
      "cell_type": "code",
      "source": [
        "post('ghosts', {'subject' : 'Inky', 'distance_to_pacman': 0.01, 'pacman_has_power' : True})"
      ],
      "metadata": {
        "colab": {
          "base_uri": "https://localhost:8080/"
        },
        "id": "2sHhNFNhbGBf",
        "outputId": "12ee57d3-410c-4170-956d-085749fdddc4"
      },
      "execution_count": 14,
      "outputs": [
        {
          "output_type": "stream",
          "name": "stdout",
          "text": [
            "ruleset: {'subject': 'Inky', 'action': 'move_away', 'target': 'Pacman', 'sid': '0'} duplicate\n"
          ]
        },
        {
          "output_type": "execute_result",
          "data": {
            "text/plain": [
              "{'sid': '0', 'id': 'sid-0', '$s': 1}"
            ]
          },
          "metadata": {},
          "execution_count": 14
        }
      ]
    },
    {
      "cell_type": "code",
      "source": [
        "post('ghosts', {'subject' : 'Clyde', 'distance_to_pacman': 0.1, 'pacman_has_power' : True})"
      ],
      "metadata": {
        "id": "7sxQesJGbIrR"
      },
      "execution_count": null,
      "outputs": []
    },
    {
      "cell_type": "markdown",
      "source": [
        "d) Identifique e implemente regras para o comportamento dos fantasmas não previstas na base \"ghosts\" . Implemente inferências para testar as regras propostas"
      ],
      "metadata": {
        "id": "6bbCBuECLusO"
      }
    },
    {
      "cell_type": "markdown",
      "source": [
        "**Tentativa 1**: Implementar uma range com maior precisão de casas decimais no retornar á base. Impedindo com que se confunda a chamada de função do \"Ir á base\" e \"Fugir\""
      ],
      "metadata": {
        "id": "DlGV9wY2cGAQ"
      }
    },
    {
      "cell_type": "code",
      "source": [
        "post('ghosts', {'subject' : 'Inky', 'distance_to_pacman': 0, 'pacman_has_power' : True})"
      ],
      "metadata": {
        "colab": {
          "base_uri": "https://localhost:8080/"
        },
        "id": "amUwDKwLcfCA",
        "outputId": "a4abf2fc-f08d-4130-8812-91c597e46fec"
      },
      "execution_count": 20,
      "outputs": [
        {
          "output_type": "stream",
          "name": "stdout",
          "text": [
            "{'subject': 'Inky', 'distance_to_pacman': 0, 'pacman_has_power': True}\n",
            "Inky retornando a base!\n",
            "Inky observando o pac-man.\n"
          ]
        },
        {
          "output_type": "execute_result",
          "data": {
            "text/plain": [
              "{'sid': '0', 'id': 'sid-0', '$s': 1}"
            ]
          },
          "metadata": {},
          "execution_count": 20
        }
      ]
    },
    {
      "cell_type": "code",
      "source": [
        "post('ghosts', {'subject' : 'Clyde', 'distance_to_pacman': 0.5, 'pacman_has_power' : True})"
      ],
      "metadata": {
        "colab": {
          "base_uri": "https://localhost:8080/"
        },
        "id": "s9ZHaQqAc9Ho",
        "outputId": "9cea0ebe-cb44-471b-866d-2b4e2e83d1b4"
      },
      "execution_count": 30,
      "outputs": [
        {
          "output_type": "stream",
          "name": "stdout",
          "text": [
            "ruleset: {'subject': 'Clyde', 'action': 'move_away', 'target': 'Pacman', 'sid': '0'} duplicate\n"
          ]
        },
        {
          "output_type": "execute_result",
          "data": {
            "text/plain": [
              "{'sid': '0', 'id': 'sid-0', '$s': 1}"
            ]
          },
          "metadata": {},
          "execution_count": 30
        }
      ]
    }
  ]
}