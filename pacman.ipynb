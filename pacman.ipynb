{
  "nbformat": 4,
  "nbformat_minor": 0,
  "metadata": {
    "colab": {
      "provenance": [],
      "authorship_tag": "ABX9TyMjLsAMpOlzXIUEKz5RCN9N",
      "include_colab_link": true
    },
    "kernelspec": {
      "name": "python3",
      "display_name": "Python 3"
    },
    "language_info": {
      "name": "python"
    }
  },
  "cells": [
    {
      "cell_type": "markdown",
      "metadata": {
        "id": "view-in-github",
        "colab_type": "text"
      },
      "source": [
        "<a href=\"https://colab.research.google.com/github/MrVeGGi3/AI-for-Games/blob/main/pacman.ipynb\" target=\"_parent\"><img src=\"https://colab.research.google.com/assets/colab-badge.svg\" alt=\"Open In Colab\"/></a>"
      ]
    },
    {
      "cell_type": "code",
      "execution_count": null,
      "metadata": {
        "id": "ulWQagCLuWCK"
      },
      "outputs": [],
      "source": [
        "import random\n",
        "import math\n",
        "\n",
        "def distancia(pos1, pos2):\n",
        "  return math.sqrt((pos1[0] - pos2[0])**2 + (pos1[1] - pos2[1])**2)\n",
        "\n",
        "\n",
        "def move_ghost(posicao, alvo):\n",
        "  direcoes = [(0,1), (0, -1), (1, 0), (-1, 0)]\n",
        "  melhor_direcao = None\n",
        "  menor_distancia = float('inf')\n",
        "\n",
        "  for direcao in direcoes:\n",
        "    nova_posicao = [posicao[0] + direcao[0], posicao[1] + direcao[1]]\n",
        "    if 0 <= nova_posicao[0] < len(labirinto) and 0 <= nova_posicao[1] < len(labirinto[0]):\n",
        "      if labirinto[nova_posicao[0]][nova_posicao[1]] == 1:\n",
        "          dist = distancia(nova_posicao, alvo)\n",
        "          if dist < menor_distancia:\n",
        "            menor_distancia = dist\n",
        "            melhor_direcao = direcao\n",
        "\n",
        "  if melhor_direção:\n",
        "    return[posicao[0] + melhor_direcao[0], posicao[1] + melhor_direcao[1]]\n",
        "  return posicao\n",
        "\n",
        "labirinto = [\n",
        "      [0,0,0,0,0],\n",
        "      [0,1,1,1,0],\n",
        "      [0,1,0,1,0],\n",
        "      [0,1,1,1,0],\n",
        "      [0,0,0,0,0]\n",
        "]\n",
        "\n",
        "labirinto2 = [\n",
        "    [0,0,0,0,0,0,0,0,0,0],\n",
        "    [0,1,1,1,1,1,1,1,1,0],\n",
        "    [0,1,0,0,1,1,0,0,1,0],\n",
        "    [0,1,0,1,1,1,1,0,1,0],\n",
        "    [0,1,0,0,0,0,0,0,1,0],\n",
        "    [1,1,1,1,1,1,1,1,1,1],\n",
        "    [0,1,0,0,1,1,0,0,1,0],\n",
        "    [0,1,0,0,1,1,0,0,1,0],\n",
        "    [0,1,1,1,1,1,1,1,1,0],\n",
        "    [0,0,0,0,0,0,0,0,0,0]\n",
        "]\n",
        "\n",
        "balls =\n",
        "\n",
        "\n",
        "\n",
        "megaballs =\n",
        "\n",
        "\n",
        "\n",
        "\n",
        "\n",
        "\n",
        "pacman = [2,2]\n",
        "ghost1 = [1,1]\n",
        "ghost2 = [3,3]\n",
        "\n",
        "for _ in range(20):\n",
        "  print(\"Labirinto:\")\n",
        "  for linha in labirinto:\n",
        "      print(linha)\n",
        "\n",
        "  print(\"Posição do PAC-MAN:\", pacman)\n",
        "  print(\"Posição do Fantasma 1:\", ghost1)\n",
        "  print(\"Posição do Fantasma 2:\", ghost2)\n",
        "\n",
        "  fantasma1 = mover_fantasma(ghost1, pacman,labirinto)\n",
        "  fantasma2 = mover_fantasma(ghost2, pacman,labirinto)\n"
      ]
    }
  ]
}