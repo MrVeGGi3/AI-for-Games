{
  "nbformat": 4,
  "nbformat_minor": 0,
  "metadata": {
    "colab": {
      "provenance": [],
      "authorship_tag": "ABX9TyMroRYKXOBZw36LXQtveYqV",
      "include_colab_link": true
    },
    "kernelspec": {
      "name": "python3",
      "display_name": "Python 3"
    },
    "language_info": {
      "name": "python"
    }
  },
  "cells": [
    {
      "cell_type": "markdown",
      "metadata": {
        "id": "view-in-github",
        "colab_type": "text"
      },
      "source": [
        "<a href=\"https://colab.research.google.com/github/MrVeGGi3/AI-for-Games/blob/main/SE_IAG02_Matheus_Veras_Soares.ipynb\" target=\"_parent\"><img src=\"https://colab.research.google.com/assets/colab-badge.svg\" alt=\"Open In Colab\"/></a>"
      ]
    },
    {
      "cell_type": "markdown",
      "source": [
        "**Sistemas Baseados em Regras**\n",
        "\n",
        "\n",
        "Aplicação da Biblioteca Durable Rules para o jogo do Pac - Man.\n",
        "\n",
        "\n",
        "\n",
        "\n",
        "\n"
      ],
      "metadata": {
        "id": "whJ3RV5sGkEA"
      }
    },
    {
      "cell_type": "markdown",
      "source": [
        "Conhecimento das tomadas de decisões lógicas dos Fantasmas:\n",
        "Fonte: https://jovemnerd.com.br/noticias/games/pac-man-inteligencia-artificial-entenda\n",
        "\n",
        "Blinky(Vermelho):\n",
        "- Sempre Persegue o Jogador;\n",
        "- Persegue mais á partir da quantidade de bolinhas digeridas pelo jogador\n",
        "\n",
        "Pinky(Rosa):\n",
        "- Tenta Antecipar os movimentos do Jogador;\n",
        "\n",
        "Inky(Ciano):\n",
        "- Quando o jogador come 30 bolinhas, ele começa a se movimentar.\n",
        "- Toma as decisões conforme a distância do Blinky e do Player.\n",
        "\n",
        "Clyde(Amarelo):\n",
        "- Fantasma que não quer perseguir o Pac - Man.\n",
        "- Apenas se move se o Pac - Man estiver muito longe, mas mesmo assim, ele fica parado de novo.\n",
        "\n",
        "Todos vão fugir quando o Pac - Man atingir a bolinha\n"
      ],
      "metadata": {
        "id": "cHsm-GnzG9lE"
      }
    },
    {
      "cell_type": "markdown",
      "source": [
        "Blinky: Sempre irá seguir o player.\n",
        "    Estados: Atacar o Player\n",
        "Pinky:\n",
        "    Estados: Observar o Player, Ir para uma direção e Atacar o Player\n",
        "    Condições: Se player.distance > 20; Se player.distance < 10; Se player.distance <= 5\n",
        "Inky:\n",
        "    Estados: Observar o Player, Atacar o player\n",
        "    Condições: is_ball_count = false; is_ball_count  = true\n",
        "Clyde:\n",
        "    Estados: Observando, Movimentando\n",
        "    Condições: Se player.distance > 25; Se player.distance < 25"
      ],
      "metadata": {
        "id": "nz2CeJskRks5"
      }
    },
    {
      "cell_type": "code",
      "source": [
        "!pip install durable-rules\n",
        "!pip install networkx"
      ],
      "metadata": {
        "id": "mAQ5hotZHJXq",
        "colab": {
          "base_uri": "https://localhost:8080/"
        },
        "outputId": "5a95a949-d939-47de-e967-ab57144ba205"
      },
      "execution_count": 1,
      "outputs": [
        {
          "output_type": "stream",
          "name": "stdout",
          "text": [
            "Collecting durable-rules\n",
            "  Downloading durable_rules-2.0.28.tar.gz (57 kB)\n",
            "\u001b[2K     \u001b[90m━━━━━━━━━━━━━━━━━━━━━━━━━━━━━━━━━━━━━━━━\u001b[0m \u001b[32m57.6/57.6 kB\u001b[0m \u001b[31m769.7 kB/s\u001b[0m eta \u001b[36m0:00:00\u001b[0m\n",
            "\u001b[?25h  Preparing metadata (setup.py) ... \u001b[?25l\u001b[?25hdone\n",
            "Building wheels for collected packages: durable-rules\n",
            "  Building wheel for durable-rules (setup.py) ... \u001b[?25l\u001b[?25hdone\n",
            "  Created wheel for durable-rules: filename=durable_rules-2.0.28-cp310-cp310-linux_x86_64.whl size=199321 sha256=65fb1c43c6bcf65ca145f730a5037850429d04505d2c3f6f22092f2edd38fb35\n",
            "  Stored in directory: /root/.cache/pip/wheels/f6/b4/6c/ee50ba2f212686ca9c6fdae66f5030f2f37cc9178a38503f69\n",
            "Successfully built durable-rules\n",
            "Installing collected packages: durable-rules\n",
            "Successfully installed durable-rules-2.0.28\n",
            "Requirement already satisfied: networkx in /usr/local/lib/python3.10/dist-packages (3.3)\n"
          ]
        }
      ]
    },
    {
      "cell_type": "code",
      "source": [
        "from durable.lang import ruleset, when_all, post, m, assert_fact, c\n",
        "\n",
        "with ruleset('blinky'):\n",
        "    @when_all((m.p_is_alive == True) & (m.p_distance >= 0) & (m.p_ball_status == False) & (m.p_total_balls >= 0))\n",
        "    def b_persue_player(c):\n",
        "      print(c.m)\n",
        "      print('Perseguindo o Jogador')\n",
        "\n",
        "    @when_all((m.p_is_alive == True) & (m.p_distance >= 0) & (m.p_ball_status == True) & (m.p_total_balls >= 0))\n",
        "    def b_run_player(c):\n",
        "      print(c.m)\n",
        "      print('Fugindo do Jogador')\n",
        "\n",
        "\n",
        "with ruleset('pinky'):\n",
        "    @when_all((m.p_is_alive == True) & (m.p_distance > 20) & (m.p_ball_status == False) & (m.p_total_balls >= 0))\n",
        "    def p_seek_player(c):\n",
        "      print(c.m)\n",
        "      print('Observar o Jogador')\n",
        "\n",
        "    @when_all((m.p_is_alive == True) & (m.p_distance < 20) & (m.p_ball_status == False) & (m.p_total_balls >= 0))\n",
        "    def p_predict_player(c):\n",
        "      print(c.m)\n",
        "      print('Movendo para um canto estratégico')\n",
        "\n",
        "    @when_all((m.p_is_alive == True) & (m.p_distance >= 0) & (m.p_ball_status == True) & (m.p_total_balls >= 0))\n",
        "    def p_run_player9(c):\n",
        "      print(c.m)\n",
        "      print('Fugindo do Jogador')\n",
        "\n",
        "with ruleset('inky'):\n",
        "    @when_all((m.p_is_alive == True) & (m.p_distance > 20) & (m.p_ball_status == False) & (m.p_total_balls < 30))\n",
        "    def i_seek_player(c):\n",
        "      print(c.m)\n",
        "      print('Observar o Jogador')\n",
        "\n",
        "    @when_all((m.p_is_alive == True) & (m.p_distance > 20) & (m.p_ball_status == False) & (m.p_total_balls >= 30))\n",
        "    def i_attack_player(c):\n",
        "      print(c.m)\n",
        "      print('Atacar o Jogador')\n",
        "\n",
        "    @when_all((m.p_is_alive == True) & (m.p_distance >= 0) & (m.p_ball_status == True) & (m.p_total_balls >= 0))\n",
        "    def i_run_player(c):\n",
        "      print(c.m)\n",
        "      print('Fugindo do Jogador')\n",
        "\n",
        "with ruleset('clyde'):\n",
        "    @when_all((m.p_is_alive == True) & (m.p_distance > 20) & (m.p_ball_status == True) & (m.p_total_balls >= 0))\n",
        "    def move(c):\n",
        "      print(c.m)\n",
        "      print('Movendo para outro canto')\n",
        "\n",
        "    @when_all((m.p_is_alive == True) & (m.p_distance <= 20) & (m.p_ball_status == False) & (m.p_total_balls >= 0))\n",
        "    def c_seek_player(c):\n",
        "      print(c.m)\n",
        "      print('Observar o Jogador')\n",
        "\n",
        "    @when_all((m.p_is_alive == True) & (m.p_distance >= 0) & (m.p_ball_status == True) & (m.p_total_balls >= 0))\n",
        "    def c_run_player(c):\n",
        "      print(c.m)\n",
        "      print('Fugindo do Jogador')\n"
      ],
      "metadata": {
        "id": "BzZGKKTVTNkT"
      },
      "execution_count": 34,
      "outputs": []
    },
    {
      "cell_type": "code",
      "source": [
        "post('blinky', {'p_is_alive': True, 'p_distance': 10, 'p_ball_status': False, 'p_total_balls': 20})\n",
        "post('pinky', {'p_is_alive': True, 'p_distance': 10, 'p_ball_status': False, 'p_total_balls': 20})\n",
        "post('inky', {'p_is_alive': True, 'p_distance': 10, 'p_ball_status': False, 'p_total_balls': 20})\n",
        "post('clyde', {'p_is_alive': True, 'p_distance': 10, 'p_ball_status': False, 'p_total_balls': 20})"
      ],
      "metadata": {
        "colab": {
          "base_uri": "https://localhost:8080/",
          "height": 339
        },
        "id": "EurGgUzkXsoC",
        "outputId": "f34891ee-9d1c-4e72-8971-3bca5b2fd809"
      },
      "execution_count": 35,
      "outputs": [
        {
          "output_type": "error",
          "ename": "Exception",
          "evalue": "Ruleset with name blinky already registered",
          "traceback": [
            "\u001b[0;31m---------------------------------------------------------------------------\u001b[0m",
            "\u001b[0;31mException\u001b[0m                                 Traceback (most recent call last)",
            "\u001b[0;32m<ipython-input-35-42571d9b9cd3>\u001b[0m in \u001b[0;36m<cell line: 1>\u001b[0;34m()\u001b[0m\n\u001b[0;32m----> 1\u001b[0;31m \u001b[0mpost\u001b[0m\u001b[0;34m(\u001b[0m\u001b[0;34m'blinky'\u001b[0m\u001b[0;34m,\u001b[0m \u001b[0;34m{\u001b[0m\u001b[0;34m'p_is_alive'\u001b[0m\u001b[0;34m:\u001b[0m \u001b[0;32mTrue\u001b[0m\u001b[0;34m,\u001b[0m \u001b[0;34m'p_distance'\u001b[0m\u001b[0;34m:\u001b[0m \u001b[0;36m10\u001b[0m\u001b[0;34m,\u001b[0m \u001b[0;34m'p_ball_status'\u001b[0m\u001b[0;34m:\u001b[0m \u001b[0;32mFalse\u001b[0m\u001b[0;34m,\u001b[0m \u001b[0;34m'p_total_balls'\u001b[0m\u001b[0;34m:\u001b[0m \u001b[0;36m20\u001b[0m\u001b[0;34m}\u001b[0m\u001b[0;34m)\u001b[0m\u001b[0;34m\u001b[0m\u001b[0;34m\u001b[0m\u001b[0m\n\u001b[0m\u001b[1;32m      2\u001b[0m \u001b[0mpost\u001b[0m\u001b[0;34m(\u001b[0m\u001b[0;34m'pinky'\u001b[0m\u001b[0;34m,\u001b[0m \u001b[0;34m{\u001b[0m\u001b[0;34m'p_is_alive'\u001b[0m\u001b[0;34m:\u001b[0m \u001b[0;32mTrue\u001b[0m\u001b[0;34m,\u001b[0m \u001b[0;34m'p_distance'\u001b[0m\u001b[0;34m:\u001b[0m \u001b[0;36m10\u001b[0m\u001b[0;34m,\u001b[0m \u001b[0;34m'p_ball_status'\u001b[0m\u001b[0;34m:\u001b[0m \u001b[0;32mFalse\u001b[0m\u001b[0;34m,\u001b[0m \u001b[0;34m'p_total_balls'\u001b[0m\u001b[0;34m:\u001b[0m \u001b[0;36m20\u001b[0m\u001b[0;34m}\u001b[0m\u001b[0;34m)\u001b[0m\u001b[0;34m\u001b[0m\u001b[0;34m\u001b[0m\u001b[0m\n\u001b[1;32m      3\u001b[0m \u001b[0mpost\u001b[0m\u001b[0;34m(\u001b[0m\u001b[0;34m'inky'\u001b[0m\u001b[0;34m,\u001b[0m \u001b[0;34m{\u001b[0m\u001b[0;34m'p_is_alive'\u001b[0m\u001b[0;34m:\u001b[0m \u001b[0;32mTrue\u001b[0m\u001b[0;34m,\u001b[0m \u001b[0;34m'p_distance'\u001b[0m\u001b[0;34m:\u001b[0m \u001b[0;36m10\u001b[0m\u001b[0;34m,\u001b[0m \u001b[0;34m'p_ball_status'\u001b[0m\u001b[0;34m:\u001b[0m \u001b[0;32mFalse\u001b[0m\u001b[0;34m,\u001b[0m \u001b[0;34m'p_total_balls'\u001b[0m\u001b[0;34m:\u001b[0m \u001b[0;36m20\u001b[0m\u001b[0;34m}\u001b[0m\u001b[0;34m)\u001b[0m\u001b[0;34m\u001b[0m\u001b[0;34m\u001b[0m\u001b[0m\n\u001b[1;32m      4\u001b[0m \u001b[0mpost\u001b[0m\u001b[0;34m(\u001b[0m\u001b[0;34m'clyde'\u001b[0m\u001b[0;34m,\u001b[0m \u001b[0;34m{\u001b[0m\u001b[0;34m'p_is_alive'\u001b[0m\u001b[0;34m:\u001b[0m \u001b[0;32mTrue\u001b[0m\u001b[0;34m,\u001b[0m \u001b[0;34m'p_distance'\u001b[0m\u001b[0;34m:\u001b[0m \u001b[0;36m10\u001b[0m\u001b[0;34m,\u001b[0m \u001b[0;34m'p_ball_status'\u001b[0m\u001b[0;34m:\u001b[0m \u001b[0;32mFalse\u001b[0m\u001b[0;34m,\u001b[0m \u001b[0;34m'p_total_balls'\u001b[0m\u001b[0;34m:\u001b[0m \u001b[0;36m20\u001b[0m\u001b[0;34m}\u001b[0m\u001b[0;34m)\u001b[0m\u001b[0;34m\u001b[0m\u001b[0;34m\u001b[0m\u001b[0m\n",
            "\u001b[0;32m/usr/local/lib/python3.10/dist-packages/durable/lang.py\u001b[0m in \u001b[0;36mpost\u001b[0;34m(ruleset_name, message, complete)\u001b[0m\n\u001b[1;32m    668\u001b[0m \u001b[0;34m\u001b[0m\u001b[0m\n\u001b[1;32m    669\u001b[0m \u001b[0;32mdef\u001b[0m \u001b[0mpost\u001b[0m\u001b[0;34m(\u001b[0m\u001b[0mruleset_name\u001b[0m\u001b[0;34m,\u001b[0m \u001b[0mmessage\u001b[0m\u001b[0;34m,\u001b[0m \u001b[0mcomplete\u001b[0m \u001b[0;34m=\u001b[0m \u001b[0;32mNone\u001b[0m\u001b[0;34m)\u001b[0m\u001b[0;34m:\u001b[0m\u001b[0;34m\u001b[0m\u001b[0;34m\u001b[0m\u001b[0m\n\u001b[0;32m--> 670\u001b[0;31m     \u001b[0;32mreturn\u001b[0m \u001b[0mget_host\u001b[0m\u001b[0;34m(\u001b[0m\u001b[0;34m)\u001b[0m\u001b[0;34m.\u001b[0m\u001b[0mpost\u001b[0m\u001b[0;34m(\u001b[0m\u001b[0mruleset_name\u001b[0m\u001b[0;34m,\u001b[0m \u001b[0mmessage\u001b[0m\u001b[0;34m,\u001b[0m \u001b[0mcomplete\u001b[0m\u001b[0;34m)\u001b[0m\u001b[0;34m\u001b[0m\u001b[0;34m\u001b[0m\u001b[0m\n\u001b[0m\u001b[1;32m    671\u001b[0m \u001b[0;34m\u001b[0m\u001b[0m\n\u001b[1;32m    672\u001b[0m \u001b[0;32mdef\u001b[0m \u001b[0mpost_batch\u001b[0m\u001b[0;34m(\u001b[0m\u001b[0mruleset_name\u001b[0m\u001b[0;34m,\u001b[0m \u001b[0mmessages\u001b[0m\u001b[0;34m,\u001b[0m \u001b[0mcomplete\u001b[0m \u001b[0;34m=\u001b[0m \u001b[0;32mNone\u001b[0m\u001b[0;34m)\u001b[0m\u001b[0;34m:\u001b[0m\u001b[0;34m\u001b[0m\u001b[0;34m\u001b[0m\u001b[0m\n",
            "\u001b[0;32m/usr/local/lib/python3.10/dist-packages/durable/lang.py\u001b[0m in \u001b[0;36mget_host\u001b[0;34m()\u001b[0m\n\u001b[1;32m    661\u001b[0m             \u001b[0mruleset_definitions\u001b[0m\u001b[0;34m[\u001b[0m\u001b[0mfull_name\u001b[0m\u001b[0;34m]\u001b[0m \u001b[0;34m=\u001b[0m \u001b[0mruleset_definition\u001b[0m\u001b[0;34m\u001b[0m\u001b[0;34m\u001b[0m\u001b[0m\n\u001b[1;32m    662\u001b[0m \u001b[0;34m\u001b[0m\u001b[0m\n\u001b[0;32m--> 663\u001b[0;31m         \u001b[0m_main_host\u001b[0m\u001b[0;34m.\u001b[0m\u001b[0mregister_rulesets\u001b[0m\u001b[0;34m(\u001b[0m\u001b[0mruleset_definitions\u001b[0m\u001b[0;34m)\u001b[0m\u001b[0;34m\u001b[0m\u001b[0;34m\u001b[0m\u001b[0m\n\u001b[0m\u001b[1;32m    664\u001b[0m     \u001b[0;32mfinally\u001b[0m\u001b[0;34m:\u001b[0m\u001b[0;34m\u001b[0m\u001b[0;34m\u001b[0m\u001b[0m\n\u001b[1;32m    665\u001b[0m         \u001b[0m_rulesets\u001b[0m \u001b[0;34m=\u001b[0m \u001b[0;34m{\u001b[0m\u001b[0;34m}\u001b[0m\u001b[0;34m\u001b[0m\u001b[0;34m\u001b[0m\u001b[0m\n",
            "\u001b[0;32m/usr/local/lib/python3.10/dist-packages/durable/engine.py\u001b[0m in \u001b[0;36mregister_rulesets\u001b[0;34m(self, ruleset_definitions)\u001b[0m\n\u001b[1;32m    888\u001b[0m         \u001b[0;32mfor\u001b[0m \u001b[0mruleset_name\u001b[0m\u001b[0;34m,\u001b[0m \u001b[0mruleset\u001b[0m \u001b[0;32min\u001b[0m \u001b[0mrulesets\u001b[0m\u001b[0;34m.\u001b[0m\u001b[0mitems\u001b[0m\u001b[0;34m(\u001b[0m\u001b[0;34m)\u001b[0m\u001b[0;34m:\u001b[0m\u001b[0;34m\u001b[0m\u001b[0;34m\u001b[0m\u001b[0m\n\u001b[1;32m    889\u001b[0m             \u001b[0;32mif\u001b[0m \u001b[0mruleset_name\u001b[0m \u001b[0;32min\u001b[0m \u001b[0mself\u001b[0m\u001b[0;34m.\u001b[0m\u001b[0m_ruleset_directory\u001b[0m\u001b[0;34m:\u001b[0m\u001b[0;34m\u001b[0m\u001b[0;34m\u001b[0m\u001b[0m\n\u001b[0;32m--> 890\u001b[0;31m                 \u001b[0;32mraise\u001b[0m \u001b[0mException\u001b[0m\u001b[0;34m(\u001b[0m\u001b[0;34m'Ruleset with name {0} already registered'\u001b[0m\u001b[0;34m.\u001b[0m\u001b[0mformat\u001b[0m\u001b[0;34m(\u001b[0m\u001b[0mruleset_name\u001b[0m\u001b[0;34m)\u001b[0m\u001b[0;34m)\u001b[0m\u001b[0;34m\u001b[0m\u001b[0;34m\u001b[0m\u001b[0m\n\u001b[0m\u001b[1;32m    891\u001b[0m             \u001b[0;32melse\u001b[0m\u001b[0;34m:\u001b[0m\u001b[0;34m\u001b[0m\u001b[0;34m\u001b[0m\u001b[0m\n\u001b[1;32m    892\u001b[0m                 \u001b[0mself\u001b[0m\u001b[0;34m.\u001b[0m\u001b[0m_ruleset_directory\u001b[0m\u001b[0;34m[\u001b[0m\u001b[0mruleset_name\u001b[0m\u001b[0;34m]\u001b[0m \u001b[0;34m=\u001b[0m \u001b[0mruleset\u001b[0m\u001b[0;34m\u001b[0m\u001b[0;34m\u001b[0m\u001b[0m\n",
            "\u001b[0;31mException\u001b[0m: Ruleset with name blinky already registered"
          ]
        }
      ]
    }
  ]
}