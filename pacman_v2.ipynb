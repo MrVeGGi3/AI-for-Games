{
  "nbformat": 4,
  "nbformat_minor": 0,
  "metadata": {
    "colab": {
      "provenance": [],
      "include_colab_link": true
    },
    "kernelspec": {
      "name": "python3",
      "display_name": "Python 3"
    },
    "language_info": {
      "name": "python"
    }
  },
  "cells": [
    {
      "cell_type": "markdown",
      "metadata": {
        "id": "view-in-github",
        "colab_type": "text"
      },
      "source": [
        "<a href=\"https://colab.research.google.com/github/MrVeGGi3/AI-for-Games/blob/main/pacman_v2.ipynb\" target=\"_parent\"><img src=\"https://colab.research.google.com/assets/colab-badge.svg\" alt=\"Open In Colab\"/></a>"
      ]
    },
    {
      "cell_type": "code",
      "execution_count": 14,
      "metadata": {
        "id": "vPtl89G59n5-",
        "colab": {
          "base_uri": "https://localhost:8080/",
          "height": 475
        },
        "outputId": "a8922da8-80ff-4d89-b08a-2ecb389e1cc3"
      },
      "outputs": [
        {
          "output_type": "stream",
          "name": "stdout",
          "text": [
            "\u001b[37m# \u001b[37m# \u001b[37m# \u001b[37m# \u001b[37m# \u001b[37m# \n",
            "\u001b[37m# \u001b[32mF \u001b[37m. \u001b[37m. \u001b[37m. \u001b[37m# \n",
            "\u001b[37m# \u001b[37m. \u001b[37m. \u001b[37m# \u001b[37m. \u001b[37m# \n",
            "\u001b[37m# \u001b[37m. \u001b[37m. \u001b[37m# \u001b[37m. \u001b[37m# \n",
            "\u001b[37m# \u001b[37m. \u001b[37m. \u001b[37m. \u001b[31mP \u001b[37m# \n",
            "\u001b[37m# \u001b[37m# \u001b[37m# \u001b[37m# \u001b[37m# \u001b[37m# \n",
            "\n"
          ]
        },
        {
          "output_type": "error",
          "ename": "TypeError",
          "evalue": "Fantasma.mover_fantasma() missing 1 required positional argument: 'labirinto'",
          "traceback": [
            "\u001b[0;31m---------------------------------------------------------------------------\u001b[0m",
            "\u001b[0;31mTypeError\u001b[0m                                 Traceback (most recent call last)",
            "\u001b[0;32m<ipython-input-14-4bf0c1a5c3c6>\u001b[0m in \u001b[0;36m<cell line: 46>\u001b[0;34m()\u001b[0m\n\u001b[1;32m     50\u001b[0m     \u001b[0mprint\u001b[0m\u001b[0;34m(\u001b[0m\u001b[0;34m)\u001b[0m\u001b[0;34m\u001b[0m\u001b[0;34m\u001b[0m\u001b[0m\n\u001b[1;32m     51\u001b[0m     \u001b[0mPhanthom_1\u001b[0m\u001b[0;34m.\u001b[0m\u001b[0mmover_fantasma\u001b[0m\u001b[0;34m(\u001b[0m\u001b[0mPhanthom_1\u001b[0m\u001b[0;34m.\u001b[0m\u001b[0mposicao\u001b[0m\u001b[0;34m,\u001b[0m \u001b[0mpacman\u001b[0m\u001b[0;34m,\u001b[0m \u001b[0mlabirinto\u001b[0m\u001b[0;34m)\u001b[0m\u001b[0;34m\u001b[0m\u001b[0;34m\u001b[0m\u001b[0m\n\u001b[0;32m---> 52\u001b[0;31m     \u001b[0mPhanthom_1\u001b[0m\u001b[0;34m.\u001b[0m\u001b[0mupdate_state\u001b[0m\u001b[0;34m(\u001b[0m\u001b[0mpacman\u001b[0m\u001b[0;34m,\u001b[0m \u001b[0mPhanthom_1\u001b[0m\u001b[0;34m.\u001b[0m\u001b[0mposicao\u001b[0m\u001b[0;34m)\u001b[0m\u001b[0;34m\u001b[0m\u001b[0;34m\u001b[0m\u001b[0m\n\u001b[0m\u001b[1;32m     53\u001b[0m \u001b[0;34m\u001b[0m\u001b[0m\n\u001b[1;32m     54\u001b[0m     \u001b[0mPhanthom_2\u001b[0m\u001b[0;34m.\u001b[0m\u001b[0mmover_fantasma\u001b[0m\u001b[0;34m(\u001b[0m\u001b[0mPhanthom_2\u001b[0m\u001b[0;34m.\u001b[0m\u001b[0mposicao\u001b[0m\u001b[0;34m,\u001b[0m \u001b[0mpacman\u001b[0m\u001b[0;34m,\u001b[0m \u001b[0mlabirinto\u001b[0m\u001b[0;34m)\u001b[0m\u001b[0;34m\u001b[0m\u001b[0;34m\u001b[0m\u001b[0m\n",
            "\u001b[0;32m<ipython-input-13-3d6948303b2f>\u001b[0m in \u001b[0;36mupdate_state\u001b[0;34m(self, player_distance, posicao_inicial)\u001b[0m\n\u001b[1;32m     23\u001b[0m         \u001b[0mself\u001b[0m\u001b[0;34m.\u001b[0m\u001b[0mpos_inicial\u001b[0m \u001b[0;34m=\u001b[0m \u001b[0mposicao_inicial\u001b[0m\u001b[0;34m\u001b[0m\u001b[0;34m\u001b[0m\u001b[0m\n\u001b[1;32m     24\u001b[0m         \u001b[0;32mif\u001b[0m \u001b[0mself\u001b[0m\u001b[0;34m.\u001b[0m\u001b[0mstate\u001b[0m \u001b[0;34m==\u001b[0m \u001b[0;34m\"caça\"\u001b[0m\u001b[0;34m:\u001b[0m\u001b[0;34m\u001b[0m\u001b[0;34m\u001b[0m\u001b[0m\n\u001b[0;32m---> 25\u001b[0;31m             \u001b[0mself\u001b[0m\u001b[0;34m.\u001b[0m\u001b[0mmover_fantasma\u001b[0m\u001b[0;34m(\u001b[0m\u001b[0mpacman\u001b[0m\u001b[0;34m,\u001b[0m \u001b[0mlabirinto\u001b[0m\u001b[0;34m)\u001b[0m\u001b[0;34m\u001b[0m\u001b[0;34m\u001b[0m\u001b[0m\n\u001b[0m\u001b[1;32m     26\u001b[0m             \u001b[0;32mif\u001b[0m \u001b[0mpacman_superponto\u001b[0m \u001b[0;34m==\u001b[0m \u001b[0;32mTrue\u001b[0m\u001b[0;34m:\u001b[0m\u001b[0;34m\u001b[0m\u001b[0;34m\u001b[0m\u001b[0m\n\u001b[1;32m     27\u001b[0m                 \u001b[0mself\u001b[0m\u001b[0;34m.\u001b[0m\u001b[0mstate\u001b[0m \u001b[0;34m=\u001b[0m \u001b[0;34m\"fuga\"\u001b[0m\u001b[0;34m\u001b[0m\u001b[0;34m\u001b[0m\u001b[0m\n",
            "\u001b[0;31mTypeError\u001b[0m: Fantasma.mover_fantasma() missing 1 required positional argument: 'labirinto'"
          ]
        }
      ],
      "source": [
        "#Nomes dos alunos:\n",
        "# Matheus Veras Soares - 1430962121017\n",
        "# Lucas Camillo dos Reis - 1430962121030\n",
        "# Pedro Jorge Veloso Ferreira Achetta - 1430962011034\n",
        "# Daniel Marto da Silva - 1430962111034\n",
        "import random\n",
        "import math\n",
        "from colorama import Fore\n",
        "\n",
        "pacman_superponto = False\n",
        "\n",
        "# Função para imprimir o labirinto com o PAC-MAN e os fantasmas\n",
        "def imprimir_labirinto(labirinto):\n",
        "    for i in range(len(labirinto)):\n",
        "        for j in range(len(labirinto[i])):\n",
        "            if [i, j] == pacman:\n",
        "                print(Fore.RED + \"P\", end=\" \")\n",
        "            elif [i, j] == Phanthom_1.posicao:\n",
        "                print(Fore.GREEN + \"F\", end=\" \")\n",
        "            elif [i, j] == Phanthom_2.posicao:\n",
        "                print(Fore.BLUE + \"F\", end=\" \")\n",
        "            elif labirinto[i][j] == 0:\n",
        "                print(Fore.WHITE + \"#\", end=\" \")\n",
        "            else:\n",
        "                print(Fore.WHITE + \".\", end=\" \")\n",
        "        print()\n",
        "\n",
        "# Loop principal do jogo\n",
        "# Definição do labirinto (representado por uma matriz)\n",
        "labirinto = [\n",
        "    [0, 0, 0, 0, 0, 0],\n",
        "    [0, 1, 1, 1, 1, 0],\n",
        "    [0, 1, 1, 0, 1, 0],\n",
        "    [0, 1, 1, 0, 1, 0],\n",
        "    [0, 1, 1, 1, 1, 0],\n",
        "    [0, 0, 0, 0, 0, 0],\n",
        "]\n",
        "\n",
        "# Posições iniciais do PAC-MAN e dos fantasmas\n",
        "pacman = [4, 4]\n",
        "pos_inicial_fantasma = [1, 1]\n",
        "\n",
        "Phanthom_1 = Fantasma(\"Vermelho\", pos_inicial_fantasma)\n",
        "Phanthom_2 = Fantasma(\"Azul\", pos_inicial_fantasma)\n",
        "\n",
        "for _ in range(10):\n",
        "    imprimir_labirinto(labirinto)\n",
        "    if pacman == [-1, -1]:\n",
        "        break\n",
        "    print()\n",
        "    Phanthom_1.mover_fantasma(Phanthom_1.posicao, pacman, labirinto)\n",
        "    Phanthom_1.update_state(pacman, Phanthom_1.posicao)\n",
        "\n",
        "    Phanthom_2.mover_fantasma(Phanthom_2.posicao, pacman, labirinto)\n",
        "    Phanthom_2.update_state(pacman, Phanthom_2.posicao)\n"
      ]
    },
    {
      "cell_type": "code",
      "source": [
        "import random\n",
        "import math\n",
        "from colorama import Fore\n",
        "import time\n",
        "\n",
        "class Fantasma:\n",
        "    def __init__(self, nome=\"inimigo\", pos_inicial = \"\"):\n",
        "        self.state = \"caça\"\n",
        "        self.nome = nome\n",
        "        self.pego = False\n",
        "        self.local_de_inicio = True\n",
        "        self.last_update_time = time.time()\n",
        "        self.transition_delay = 0.1  # Tempo de atraso em segundos para cada transição\n",
        "        self.posicao = pos_inicial\n",
        "\n",
        "    @staticmethod\n",
        "    def distancia(pos1, pos2):\n",
        "        return math.sqrt((pos1[0] - pos2[0])**2 + (pos1[1] - pos2[1])**2)\n",
        "\n",
        "    def update_state(self, player_distance, posicao_inicial):\n",
        "        current_time = time.time()\n",
        "        time_elapsed = current_time - self.last_update_time\n",
        "        self.pos_inicial = posicao_inicial\n",
        "        if self.state == \"caça\":\n",
        "            self.mover_fantasma(pacman, labirinto)\n",
        "            if pacman_superponto == True:\n",
        "                self.state = \"fuga\"\n",
        "        elif self.state == \"fuga\":\n",
        "            self.mover_fantasma(self.posicao, self.pos_inicial, labirinto)\n",
        "            if self.pego == True:\n",
        "                self.state = \"retornar\"\n",
        "            elif pacman_superponto == False:\n",
        "                self.state = \"caça\"\n",
        "        elif self.state == \"retornar\":\n",
        "            if self.local_de_inicio == True:\n",
        "                self.state = \"caça\"\n",
        "\n",
        "        self.last_update_time = current_time\n",
        "\n",
        "    def perform_action(self):\n",
        "        if self.state == \"caça\":\n",
        "            print(self.nome, \": Estou caçando.\")\n",
        "        elif self.state == \"retornar\":\n",
        "            print(self.nome, \": Estou retornando.\")\n",
        "        elif self.state == \"fugir\":\n",
        "            print(self.nome, \": Estou fugindo.\")\n",
        "\n",
        "    def mover_fantasma(self, posicao, alvo, labirinto):\n",
        "        self.posicao = posicao\n",
        "        direcoes = [(0, 1), (0, -1), (1, 0), (-1, 0)]  # Direções: direita, esquerda, baixo, cima\n",
        "        melhor_direcao = None\n",
        "        menor_distancia = float('inf')\n",
        "\n",
        "        for direcao in direcoes:\n",
        "            nova_posicao = [posicao[0] + direcao[0], posicao[1] + direcao[1]]\n",
        "            if 0 <= nova_posicao[0] < len(labirinto) and 0 <= nova_posicao[1] < len(labirinto[0]):\n",
        "                if labirinto[nova_posicao[0]][nova_posicao[1]] == 1:\n",
        "                    dist = self.distancia(nova_posicao, alvo)\n",
        "                    if dist < menor_distancia:\n",
        "                        menor_distancia = dist\n",
        "                        melhor_direcao = direcao\n",
        "\n",
        "        if melhor_direcao and random.random() < 0.85:  # Escolha entre ir na direção do pacman e direção aleatória\n",
        "            return [posicao[0] + melhor_direcao[0], posicao[1] + melhor_direcao[1]]\n",
        "        else:\n",
        "            # Fica parado\n",
        "            return (posicao[0], posicao[1])\n",
        "\n",
        "    @staticmethod\n",
        "    def mudar_direcao(direcao_atual):\n",
        "        # Mapeie as direções possíveis\n",
        "        direcoes_possiveis = [(0, 1), (0, -1), (1, 0), (-1, 0)]\n",
        "\n",
        "        # Exclua a direção atual da lista de direções possíveis\n",
        "        direcoes_possiveis = [direcao for direcao in direcoes_possiveis if direcao != direcao_atual]\n",
        "\n",
        "        # Retorne uma nova direção aleatória entre as restantes\n",
        "        return random.choice(direcoes_possiveis)\n",
        ""
      ],
      "metadata": {
        "id": "Q9tXNoSHQaJC"
      },
      "execution_count": 13,
      "outputs": []
    },
    {
      "cell_type": "code",
      "source": [
        "!pip install colorama\n",
        "!pip install"
      ],
      "metadata": {
        "colab": {
          "base_uri": "https://localhost:8080/"
        },
        "id": "fQkeiT3ZFapE",
        "outputId": "6023b93f-54dc-4105-a1d1-68fc92ab8ddb"
      },
      "execution_count": 2,
      "outputs": [
        {
          "output_type": "stream",
          "name": "stdout",
          "text": [
            "Collecting colorama\n",
            "  Downloading colorama-0.4.6-py2.py3-none-any.whl (25 kB)\n",
            "Installing collected packages: colorama\n",
            "Successfully installed colorama-0.4.6\n",
            "\u001b[31mERROR: You must give at least one requirement to install (see \"pip help install\")\u001b[0m\u001b[31m\n",
            "\u001b[0m"
          ]
        }
      ]
    }
  ]
}